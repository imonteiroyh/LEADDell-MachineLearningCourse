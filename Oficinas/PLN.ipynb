{
 "cells": [
  {
   "cell_type": "markdown",
   "metadata": {},
   "source": [
    "### Processamento da Linguagem Natural\n",
    "Importando as bibliotecas necessárias\n"
   ]
  },
  {
   "cell_type": "code",
   "execution_count": 1,
   "metadata": {},
   "outputs": [],
   "source": [
    "import nltk\n",
    "from sklearn.feature_extraction.text import TfidfVectorizer\n",
    "import pandas as pd"
   ]
  },
  {
   "cell_type": "markdown",
   "metadata": {},
   "source": [
    "Carregando os módulos necessários para a oficina"
   ]
  },
  {
   "cell_type": "code",
   "execution_count": 2,
   "metadata": {},
   "outputs": [
    {
     "output_type": "stream",
     "name": "stderr",
     "text": [
      "[nltk_data] Downloading package stopwords to\n[nltk_data]     C:\\Users\\vmont\\AppData\\Roaming\\nltk_data...\n[nltk_data]   Package stopwords is already up-to-date!\n[nltk_data] Downloading package punkt to\n[nltk_data]     C:\\Users\\vmont\\AppData\\Roaming\\nltk_data...\n[nltk_data]   Package punkt is already up-to-date!\n"
     ]
    },
    {
     "output_type": "execute_result",
     "data": {
      "text/plain": [
       "True"
      ]
     },
     "metadata": {},
     "execution_count": 2
    }
   ],
   "source": [
    "nltk.download('stopwords')\n",
    "nltk.download('punkt')"
   ]
  },
  {
   "cell_type": "markdown",
   "metadata": {},
   "source": [
    "### Prática\n",
    "Use a variável texto a seguir para identificar as stopwords\n",
    "e após isso aplique o cáculo do **TF-IDF** neste mesmo texto e observe os scores.\n",
    "\n",
    "**OBS:** Para realizar essa tarefa utilize os módulos estudados na aula"
   ]
  },
  {
   "cell_type": "code",
   "execution_count": 3,
   "metadata": {},
   "outputs": [],
   "source": [
    "texto = 'Um carro azul seguia rapidamente em uma rodovia, e ao passar por um buraco, o carro furou o pneu, e o motorista desceu do carro azul'"
   ]
  },
  {
   "cell_type": "code",
   "execution_count": 4,
   "metadata": {},
   "outputs": [
    {
     "output_type": "stream",
     "name": "stdout",
     "text": [
      "['de', 'a', 'o', 'que', 'e', 'é', 'do', 'da', 'em', 'um', 'para', 'com', 'não', 'uma', 'os', 'no', 'se', 'na', 'por', 'mais', 'as', 'dos', 'como', 'mas', 'ao', 'ele', 'das', 'à', 'seu', 'sua', 'ou', 'quando', 'muito', 'nos', 'já', 'eu', 'também', 'só', 'pelo', 'pela', 'até', 'isso', 'ela', 'entre', 'depois', 'sem', 'mesmo', 'aos', 'seus', 'quem']\n"
     ]
    }
   ],
   "source": [
    "#Primeiro, tribuiremos à variável stopwords as stopwords em português\n",
    "stopwords = nltk.corpus.stopwords.words('portuguese')\n",
    "print(stopwords[:50])"
   ]
  },
  {
   "cell_type": "code",
   "execution_count": 5,
   "metadata": {},
   "outputs": [
    {
     "output_type": "stream",
     "name": "stdout",
     "text": [
      "['ao', 'azul', 'buraco', 'carro', 'desceu', 'do', 'em', 'furou', 'motorista', 'passar', 'pneu', 'por', 'rapidamente', 'rodovia', 'seguia', 'um', 'uma']\n"
     ]
    }
   ],
   "source": [
    "#Agora, para encontrar as stopwords e fazer o cálculo do TF-IDF, precisamos primeiro instânciar o módulo\n",
    "tf_idf = TfidfVectorizer()\n",
    "\n",
    "#Usaremos fit_transform para passar o texto como conteúdo e passaremos para o formato de array com todense()\n",
    "vector = tf_idf.fit_transform([texto])\n",
    "vector = vector.todense()\n",
    "\n",
    "#E obteremos os nomes dos tokens no vector\n",
    "nomes = tf_idf.get_feature_names()\n",
    "print(nomes)"
   ]
  },
  {
   "cell_type": "code",
   "execution_count": 6,
   "metadata": {},
   "outputs": [
    {
     "output_type": "stream",
     "name": "stdout",
     "text": [
      "ao\ndo\nem\npor\num\numa\n"
     ]
    }
   ],
   "source": [
    "#Dessa forma, podemos verificar quais tokens estão na variável stopwords, isto é, são stopwords, e imprimí-los na tela\n",
    "for t in nomes: \n",
    "    if t in stopwords:\n",
    "        print(t)"
   ]
  },
  {
   "cell_type": "code",
   "execution_count": 7,
   "metadata": {},
   "outputs": [
    {
     "output_type": "execute_result",
     "data": {
      "text/plain": [
       "         ao      azul    buraco     carro    desceu        do        em  \\\n",
       "0  0.179605  0.359211  0.179605  0.538816  0.179605  0.179605  0.179605   \n",
       "\n",
       "      furou  motorista    passar      pneu       por  rapidamente   rodovia  \\\n",
       "0  0.179605   0.179605  0.179605  0.179605  0.179605     0.179605  0.179605   \n",
       "\n",
       "     seguia        um       uma  \n",
       "0  0.179605  0.359211  0.179605  "
      ],
      "text/html": "<div>\n<style scoped>\n    .dataframe tbody tr th:only-of-type {\n        vertical-align: middle;\n    }\n\n    .dataframe tbody tr th {\n        vertical-align: top;\n    }\n\n    .dataframe thead th {\n        text-align: right;\n    }\n</style>\n<table border=\"1\" class=\"dataframe\">\n  <thead>\n    <tr style=\"text-align: right;\">\n      <th></th>\n      <th>ao</th>\n      <th>azul</th>\n      <th>buraco</th>\n      <th>carro</th>\n      <th>desceu</th>\n      <th>do</th>\n      <th>em</th>\n      <th>furou</th>\n      <th>motorista</th>\n      <th>passar</th>\n      <th>pneu</th>\n      <th>por</th>\n      <th>rapidamente</th>\n      <th>rodovia</th>\n      <th>seguia</th>\n      <th>um</th>\n      <th>uma</th>\n    </tr>\n  </thead>\n  <tbody>\n    <tr>\n      <th>0</th>\n      <td>0.179605</td>\n      <td>0.359211</td>\n      <td>0.179605</td>\n      <td>0.538816</td>\n      <td>0.179605</td>\n      <td>0.179605</td>\n      <td>0.179605</td>\n      <td>0.179605</td>\n      <td>0.179605</td>\n      <td>0.179605</td>\n      <td>0.179605</td>\n      <td>0.179605</td>\n      <td>0.179605</td>\n      <td>0.179605</td>\n      <td>0.179605</td>\n      <td>0.359211</td>\n      <td>0.179605</td>\n    </tr>\n  </tbody>\n</table>\n</div>"
     },
     "metadata": {},
     "execution_count": 7
    }
   ],
   "source": [
    "#Agora, finalmente, usamos um Data Frame para indentificar os scores calculados anteriormentes com o TfidfVectorizer()\n",
    "data = pd.DataFrame(vector, columns = nomes)\n",
    "data"
   ]
  }
 ],
 "metadata": {
  "kernelspec": {
   "name": "python3",
   "display_name": "Python 3.8.8 64-bit",
   "metadata": {
    "interpreter": {
     "hash": "f9b1bd6f2e9fbe9fa15a4046105ca3da7d37f710a1bbe95c08b6675e5e18af65"
    }
   }
  },
  "language_info": {
   "codemirror_mode": {
    "name": "ipython",
    "version": 3
   },
   "file_extension": ".py",
   "mimetype": "text/x-python",
   "name": "python",
   "nbconvert_exporter": "python",
   "pygments_lexer": "ipython3",
   "version": "3.8.8-final"
  }
 },
 "nbformat": 4,
 "nbformat_minor": 4
}